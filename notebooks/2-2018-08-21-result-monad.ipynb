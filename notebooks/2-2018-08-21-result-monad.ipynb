{
 "cells": [
  {
   "cell_type": "code",
   "execution_count": 1,
   "metadata": {},
   "outputs": [],
   "source": [
    "import sys\n",
    "sys.path.append('..')"
   ]
  },
  {
   "cell_type": "code",
   "execution_count": 2,
   "metadata": {},
   "outputs": [],
   "source": [
    "from typing import Generic, TypeVar, Callable\n",
    "\n",
    "from operator import truediv\n",
    "\n",
    "from datatypes import datatype, match"
   ]
  },
  {
   "cell_type": "code",
   "execution_count": 3,
   "metadata": {},
   "outputs": [],
   "source": [
    "A = TypeVar('A')"
   ]
  },
  {
   "cell_type": "code",
   "execution_count": 7,
   "metadata": {},
   "outputs": [],
   "source": [
    "@datatype\n",
    "class Result(Generic[A]):\n",
    "    Ok    : (A,)\n",
    "    Error : (Exception,)\n",
    "\n",
    "    @classmethod\n",
    "    def attempt(cls, f : Callable, *args, **kwargs):\n",
    "        try:\n",
    "            return cls.Ok(f(*args, **kwargs))\n",
    "        except Exception as e:\n",
    "            return cls.Error(e)\n",
    "\n",
    "    def map(self, f):\n",
    "        return match(self, {\n",
    "            Result.Ok   : lambda a: Result.Ok(f(a)),\n",
    "            Result.Error: lambda e: Error(e),\n",
    "        })\n",
    "\n",
    "    def bind(self, f):\n",
    "        return match(self, {\n",
    "            Result.Ok   : lambda a: f(a),\n",
    "            Result.Error: lambda e: Error(e),\n",
    "        })\n",
    "\n",
    "    def then(self, f):\n",
    "        result = self.bind(f)\n",
    "        \n",
    "        return result if isinstance(result, Result) else Result.Ok(result)\n",
    "    \n",
    "    __rlshift__ = __rshift__ = then\n",
    "\n",
    "\n",
    "attempt = Result.attempt"
   ]
  },
  {
   "cell_type": "code",
   "execution_count": 8,
   "metadata": {},
   "outputs": [
    {
     "data": {
      "text/plain": [
       "Ok(0.6666666666666666)"
      ]
     },
     "execution_count": 8,
     "metadata": {},
     "output_type": "execute_result"
    }
   ],
   "source": [
    "attempt(truediv, 2, 3)"
   ]
  },
  {
   "cell_type": "code",
   "execution_count": 11,
   "metadata": {},
   "outputs": [
    {
     "data": {
      "text/plain": [
       "Error(division by zero)"
      ]
     },
     "execution_count": 11,
     "metadata": {},
     "output_type": "execute_result"
    }
   ],
   "source": [
    "attempt(truediv, 2, 0)"
   ]
  },
  {
   "cell_type": "code",
   "execution_count": 17,
   "metadata": {},
   "outputs": [
    {
     "data": {
      "text/plain": [
       "Ok(0.6666666666666666)"
      ]
     },
     "execution_count": 17,
     "metadata": {},
     "output_type": "execute_result"
    }
   ],
   "source": [
    "(\n",
    "    attempt(truediv, 2, 3)\n",
    "    >> (lambda x: x*2)\n",
    "    >> (lambda x: attempt(truediv, x, 2))\n",
    ")"
   ]
  },
  {
   "cell_type": "code",
   "execution_count": null,
   "metadata": {},
   "outputs": [],
   "source": []
  },
  {
   "cell_type": "code",
   "execution_count": null,
   "metadata": {},
   "outputs": [],
   "source": []
  }
 ],
 "metadata": {
  "kernelspec": {
   "display_name": "Python 3",
   "language": "python",
   "name": "python3"
  },
  "language_info": {
   "codemirror_mode": {
    "name": "ipython",
    "version": 3
   },
   "file_extension": ".py",
   "mimetype": "text/x-python",
   "name": "python",
   "nbconvert_exporter": "python",
   "pygments_lexer": "ipython3",
   "version": "3.7.0"
  }
 },
 "nbformat": 4,
 "nbformat_minor": 2
}
