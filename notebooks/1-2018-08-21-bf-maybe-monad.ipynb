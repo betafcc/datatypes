{
 "cells": [
  {
   "cell_type": "code",
   "execution_count": 1,
   "metadata": {},
   "outputs": [],
   "source": [
    "import sys\n",
    "sys.path.append('..')"
   ]
  },
  {
   "cell_type": "code",
   "execution_count": 2,
   "metadata": {},
   "outputs": [],
   "source": [
    "from typing import Generic, TypeVar, Callable, Union\n",
    "\n",
    "from datatypes import datatype, match"
   ]
  },
  {
   "cell_type": "code",
   "execution_count": 3,
   "metadata": {},
   "outputs": [],
   "source": [
    "A = TypeVar('A')\n",
    "B = TypeVar('B')"
   ]
  },
  {
   "cell_type": "code",
   "execution_count": 4,
   "metadata": {},
   "outputs": [],
   "source": [
    "@datatype(expose=locals())\n",
    "class Maybe(Generic[A]):\n",
    "    Just    : (A,)\n",
    "    Nothing : ()\n",
    "\n",
    "    def map(self, f : Callable[[A], B]) -> 'Maybe[B]':\n",
    "        return match(self, {\n",
    "            Just    : lambda a: Just(f(a)),\n",
    "            Nothing : lambda  : Nothing(),\n",
    "        })\n",
    "\n",
    "    def bind(self, f : Callable[[A], 'Maybe[B]']) -> 'Maybe[B]':\n",
    "        return match(self, {\n",
    "            Just    : lambda a: f(a),\n",
    "            Nothing : lambda  : Nothing(),\n",
    "        })\n",
    "\n",
    "    def then(self, f : Callable[[A], Union[B, 'Maybe[B]']]) -> 'Maybe[B]':\n",
    "        result = self.bind(f)\n",
    "\n",
    "        return result if isinstance(result, Maybe) else Just(result)\n",
    "    \n",
    "    __rlshift__ = __rshift__ = then"
   ]
  },
  {
   "cell_type": "code",
   "execution_count": 5,
   "metadata": {},
   "outputs": [
    {
     "data": {
      "text/plain": [
       "Just(21)"
      ]
     },
     "execution_count": 5,
     "metadata": {},
     "output_type": "execute_result"
    }
   ],
   "source": [
    "(\n",
    "    Just(10)\n",
    "    >> (lambda x: x * 2)\n",
    "    >> (lambda x: Just(x + 1))\n",
    ")"
   ]
  },
  {
   "cell_type": "code",
   "execution_count": null,
   "metadata": {},
   "outputs": [],
   "source": []
  },
  {
   "cell_type": "code",
   "execution_count": null,
   "metadata": {},
   "outputs": [],
   "source": []
  }
 ],
 "metadata": {
  "kernelspec": {
   "display_name": "Python 3",
   "language": "python",
   "name": "python3"
  },
  "language_info": {
   "codemirror_mode": {
    "name": "ipython",
    "version": 3
   },
   "file_extension": ".py",
   "mimetype": "text/x-python",
   "name": "python",
   "nbconvert_exporter": "python",
   "pygments_lexer": "ipython3",
   "version": "3.7.0"
  }
 },
 "nbformat": 4,
 "nbformat_minor": 2
}
