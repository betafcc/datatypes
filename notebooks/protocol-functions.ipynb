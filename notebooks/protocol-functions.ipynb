{
 "cells": [
  {
   "cell_type": "markdown",
   "metadata": {},
   "source": [
    "# match"
   ]
  },
  {
   "cell_type": "markdown",
   "metadata": {},
   "source": [
    "```python\n",
    "match(obj) [\n",
    "    case,\n",
    "    case,\n",
    "    case,\n",
    "    ...\n",
    "]\n",
    "\n",
    "Runs type(obj)._match_(obj, (case, case, case, ...))\n",
    "\n",
    "If type(obj) doesnt have _match_ but have _case_,\n",
    "Runs _case_to_match(type(obj)._case_)(obj, (case, case, case, ...))\n",
    "```"
   ]
  },
  {
   "cell_type": "markdown",
   "metadata": {},
   "source": [
    "# case"
   ]
  },
  {
   "cell_type": "markdown",
   "metadata": {},
   "source": [
    "```python\n",
    "case(obj) [a:b:c]\n",
    "\n",
    "case.accept\n",
    "case.reject\n",
    "\n",
    "Runs type(obj)._case_(obj, a, b, c)\n",
    "```"
   ]
  },
  {
   "cell_type": "markdown",
   "metadata": {},
   "source": [
    "# compare"
   ]
  },
  {
   "cell_type": "markdown",
   "metadata": {},
   "source": [
    "```python\n",
    "compare(a, b) -> CompareResult\n",
    "\n",
    "CompareResult = Tuple[bool, Mapping]\n",
    "\n",
    "compare.concat\n",
    "compare.positive\n",
    "compare.negative\n",
    "\n",
    "Runs type(a)._compare_(a, b) or type(b)._rcompare_(b, a)\n",
    "\n",
    "_compare_(self, other) -> CompareResult\n",
    "```"
   ]
  },
  {
   "cell_type": "markdown",
   "metadata": {},
   "source": [
    "# placeholders"
   ]
  },
  {
   "cell_type": "markdown",
   "metadata": {},
   "source": [
    "```python\n",
    "placeholders(obj) -> Iterator[Placeholder]\n",
    "\n",
    "Runs type(obj)._placeholders_(obj)\n",
    "\n",
    "With this the `create_signature` mixin can be defined\n",
    "```"
   ]
  },
  {
   "cell_type": "markdown",
   "metadata": {},
   "source": [
    "# substitute"
   ]
  },
  {
   "cell_type": "markdown",
   "metadata": {},
   "source": [
    "```python\n",
    "substitute(obj) [\n",
    "    case,\n",
    "    case,\n",
    "    case,\n",
    "]\n",
    "\n",
    "Runs type(obj)._substitute_(obj)\n",
    "\n",
    "\n",
    "By default its just a dictionary lookup with itself as fallback:\n",
    "\n",
    "substitute(obj) ['a': 1, 'b': 2] ->\n",
    "{'a': 1, 'b': 2}.get(obj, obj)\n",
    "```"
   ]
  },
  {
   "cell_type": "code",
   "execution_count": null,
   "metadata": {},
   "outputs": [],
   "source": []
  },
  {
   "cell_type": "code",
   "execution_count": null,
   "metadata": {},
   "outputs": [],
   "source": []
  }
 ],
 "metadata": {
  "kernelspec": {
   "display_name": "Python 3",
   "language": "python",
   "name": "python3"
  },
  "language_info": {
   "codemirror_mode": {
    "name": "ipython",
    "version": 3
   },
   "file_extension": ".py",
   "mimetype": "text/x-python",
   "name": "python",
   "nbconvert_exporter": "python",
   "pygments_lexer": "ipython3",
   "version": "3.7.0"
  }
 },
 "nbformat": 4,
 "nbformat_minor": 2
}
