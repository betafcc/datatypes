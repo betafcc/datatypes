{
 "cells": [
  {
   "cell_type": "markdown",
   "metadata": {},
   "source": [
    "All of these can be done:"
   ]
  },
  {
   "cell_type": "markdown",
   "metadata": {},
   "source": [
    "```python\n",
    "data.Expression = (\n",
    "      data.Number[int]\n",
    "    | data.Add[data.Expression, data.Expression]\n",
    "    | data.Minus[data.Expression, data.Expression]\n",
    "    | data.Mult[data.Expression, data.Expression]\n",
    "    | data.Divide[data.Expression, data.Expression]\n",
    ")\n",
    "\n",
    "\n",
    "data.Expression = (\n",
    "      data.Number(int)\n",
    "    | data.Add(data.Expression, data.Expression)\n",
    "    | data.Minus(data.Expression, data.Expression)\n",
    "    | data.Mult(data.Expression, data.Expression)\n",
    "    | data.Divide(data.Expression, data.Expression)\n",
    ")\n",
    "\n",
    "\n",
    "\n",
    "data.Maybe[A] = (\n",
    "    data.Just[A]\n",
    "  | data.Nothing\n",
    ")\n",
    "\n",
    "data.Maybe(A) = (\n",
    "    data.Just(A)\n",
    "  | data.Nothing\n",
    ")\n",
    "\n",
    "\n",
    "\n",
    "# inspect __code__.co_names or wtv, define those\n",
    "# before running\n",
    "# or, just capture NameError\n",
    "@data\n",
    "def Expression(): (\n",
    "      Number(int)\n",
    "    | Add(Expression, Expression)\n",
    "    | Minus(Expression, Expression)\n",
    "    | Mult(Expression, Expression)\n",
    "    | Divide(Expression, Expression)\n",
    ")\n",
    "\n",
    "\n",
    "data('Point', (bases,), frozen=True, eq=True) [\n",
    "    x : int,\n",
    "    y : int\n",
    "]\n",
    "\n",
    "\n",
    "Maybe = data.Just[A](frozen=True, eq=True) | data.Nothing(frozen=True, eq=True)  # urg\n",
    "\n",
    "\n",
    "Just = data(frozen=True, eq=True).Just(Generic[A], Maybe) [\n",
    "    x : int : 42,\n",
    "]\n",
    "\n",
    "\n",
    "Maybe = data.Just[A] | data.Nothing\n",
    "\n",
    "\n",
    "data.Maybe[A](frozen=True, repr=True, expose=locals()) >> (\n",
    "    data.Just[A] | data.Nothing\n",
    ")\n",
    "\n",
    "```"
   ]
  },
  {
   "cell_type": "markdown",
   "metadata": {},
   "source": [
    "```python\n",
    "with data(Just=(A,), Nothing=()) as Just, Nothing:\n",
    "    Just.fmap = lambda self, f: Just(f(self[0]))\n",
    "    Nothing.fmap = lambda self, _: Nothing()\n",
    "```\n",
    "\n",
    "```python\n",
    "\n",
    "\n",
    "with data(Just=(A,), Nothing=()) as Maybe:\n",
    "    Maybe.fmap = lambda self, f: match(self) [\n",
    "        Maybe.Just(x): Maybe.Just(f(x)),\n",
    "        Maybe.Nothing(): Maybe.Nothing(),\n",
    "    ]\n",
    "```"
   ]
  },
  {
   "cell_type": "code",
   "execution_count": null,
   "metadata": {},
   "outputs": [],
   "source": []
  },
  {
   "cell_type": "code",
   "execution_count": 1,
   "metadata": {},
   "outputs": [
    {
     "data": {
      "text/plain": [
       "('a', 'b', 'c')"
      ]
     },
     "execution_count": 1,
     "metadata": {},
     "output_type": "execute_result"
    }
   ],
   "source": [
    "def Braces(): {\n",
    "    a | b | c\n",
    "}\n",
    "\n",
    "Braces.__code__.co_names"
   ]
  },
  {
   "cell_type": "code",
   "execution_count": 2,
   "metadata": {},
   "outputs": [
    {
     "data": {
      "text/plain": [
       "(('A',), ('Just', 'Nothing'))"
      ]
     },
     "execution_count": 2,
     "metadata": {},
     "output_type": "execute_result"
    }
   ],
   "source": [
    "def Maybe(A): (\n",
    "    Just(A)\n",
    "  | Nothing()\n",
    ")\n",
    "    \n",
    "Maybe.__code__.co_varnames, Maybe.__code__.co_names"
   ]
  },
  {
   "cell_type": "code",
   "execution_count": 9,
   "metadata": {},
   "outputs": [],
   "source": [
    "import re\n",
    "\n",
    "def extract_name(err : NameError) -> str:\n",
    "    return re.findall(r\"name '(.+)' is not defined\", err.args[0])[0]\n",
    "\n",
    "max_tries = 10\n",
    "def define_for_me(f):\n",
    "    acc = {}\n",
    "\n",
    "    for _ in range(max_tries):\n",
    "        try:\n",
    "            f()\n",
    "            break\n",
    "        except NameError as err:\n",
    "            acc[extract_name(err)] = 42\n",
    "            globals().update(acc)\n",
    "    return acc"
   ]
  },
  {
   "cell_type": "code",
   "execution_count": 10,
   "metadata": {},
   "outputs": [
    {
     "data": {
      "text/plain": [
       "(42, 42)"
      ]
     },
     "execution_count": 10,
     "metadata": {},
     "output_type": "execute_result"
    }
   ],
   "source": [
    "@define_for_me\n",
    "def Foo(): (\n",
    "    A | B\n",
    ")\n",
    "\n",
    "A, B"
   ]
  },
  {
   "cell_type": "code",
   "execution_count": null,
   "metadata": {},
   "outputs": [],
   "source": []
  },
  {
   "cell_type": "markdown",
   "metadata": {},
   "source": [
    "This Scala like thing is valid python, do something with it:\n",
    "\n",
    "```python\n",
    "def or(a: bool, b: bool) -> bool: (a, b) = match ({\n",
    "    case (True, _) : True,\n",
    "    case (_, True) : True,\n",
    "    \n",
    "})\n",
    "```"
   ]
  },
  {
   "cell_type": "code",
   "execution_count": null,
   "metadata": {},
   "outputs": [],
   "source": []
  },
  {
   "cell_type": "code",
   "execution_count": null,
   "metadata": {},
   "outputs": [],
   "source": []
  }
 ],
 "metadata": {
  "kernelspec": {
   "display_name": "Python 3",
   "language": "python",
   "name": "python3"
  },
  "language_info": {
   "codemirror_mode": {
    "name": "ipython",
    "version": 3
   },
   "file_extension": ".py",
   "mimetype": "text/x-python",
   "name": "python",
   "nbconvert_exporter": "python",
   "pygments_lexer": "ipython3",
   "version": "3.7.0"
  }
 },
 "nbformat": 4,
 "nbformat_minor": 2
}
