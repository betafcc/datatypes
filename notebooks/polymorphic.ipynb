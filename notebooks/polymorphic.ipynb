{
 "cells": [
  {
   "cell_type": "markdown",
   "metadata": {},
   "source": [
    "There is that thing is haskell in which a function can automatically select an overloaded variant based on the annotation of its caller"
   ]
  },
  {
   "cell_type": "markdown",
   "metadata": {},
   "source": [
    "eg:\n",
    "```haskell\n",
    "f :: Int -> Maybe Int\n",
    "f x = pure (x * 2)\n",
    "```"
   ]
  },
  {
   "cell_type": "code",
   "execution_count": 1,
   "metadata": {},
   "outputs": [],
   "source": [
    "import inspect\n",
    "from dataclasses import dataclass, astuple\n",
    "from functools import wraps\n",
    "from typing import Any"
   ]
  },
  {
   "cell_type": "code",
   "execution_count": 2,
   "metadata": {},
   "outputs": [],
   "source": [
    "class Polymorphic:\n",
    "    def __init_subclass__(cls, **kwargs):\n",
    "        super().__init_subclass__(**kwargs)\n",
    "        dataclass(frozen=True, eq=True, order=True, repr=False)(cls)\n",
    "\n",
    "    def __repr__(self):\n",
    "        cls = self.__class__.__name__\n",
    "        args = ', '.join(map(repr, astuple(self)))\n",
    "        return f'{cls}({args})'\n",
    "\n",
    "    def to(self, type):\n",
    "        return getattr(type, self.__class__.__name__)(*astuple(self))"
   ]
  },
  {
   "cell_type": "code",
   "execution_count": 3,
   "metadata": {},
   "outputs": [],
   "source": [
    "class pure(Polymorphic):\n",
    "    x : Any"
   ]
  },
  {
   "cell_type": "code",
   "execution_count": 4,
   "metadata": {},
   "outputs": [],
   "source": [
    "def resolve_return(f):\n",
    "    @wraps(f)\n",
    "    def _resolve_return(*args, **kwargs):\n",
    "        result = f(*args, **kwargs)\n",
    "        if not isinstance(result, Polymorphic):\n",
    "            return result \n",
    "        return result.to(inspect.signature(f).return_annotation(result))\n",
    "    return _resolve_return\n",
    "\n",
    "\n",
    "@dataclass\n",
    "class Box:\n",
    "    x : int\n",
    "\n",
    "    @staticmethod\n",
    "    def pure(x):\n",
    "        return Box(x)\n",
    "\n",
    "\n",
    "@resolve_return\n",
    "def bar() -> Box:\n",
    "    return pure(10)"
   ]
  },
  {
   "cell_type": "code",
   "execution_count": 5,
   "metadata": {},
   "outputs": [
    {
     "data": {
      "text/plain": [
       "Box(x=10)"
      ]
     },
     "execution_count": 5,
     "metadata": {},
     "output_type": "execute_result"
    }
   ],
   "source": [
    "bar()"
   ]
  },
  {
   "cell_type": "code",
   "execution_count": null,
   "metadata": {},
   "outputs": [],
   "source": []
  },
  {
   "cell_type": "code",
   "execution_count": null,
   "metadata": {},
   "outputs": [],
   "source": []
  }
 ],
 "metadata": {
  "kernelspec": {
   "display_name": "Python 3",
   "language": "python",
   "name": "python3"
  },
  "language_info": {
   "codemirror_mode": {
    "name": "ipython",
    "version": 3
   },
   "file_extension": ".py",
   "mimetype": "text/x-python",
   "name": "python",
   "nbconvert_exporter": "python",
   "pygments_lexer": "ipython3",
   "version": "3.7.0"
  }
 },
 "nbformat": 4,
 "nbformat_minor": 2
}
